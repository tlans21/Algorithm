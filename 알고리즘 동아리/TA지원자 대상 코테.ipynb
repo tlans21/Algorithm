{
 "cells": [
  {
   "cell_type": "markdown",
   "metadata": {},
   "source": [
    "___\n",
    "<a href='https://cafe.naver.com/jmhonglab'><p style=\"text-align:center;\"><img src='https://lh3.googleusercontent.com/lY3ySXooSmwsq5r-mRi7uiypbo0Vez6pmNoQxMFhl9fmZJkRHu5lO2vo7se_0YOzgmDyJif9fi4_z0o3ZFdwd8NVSWG6Ea80uWaf3pOHpR4GHGDV7kaFeuHR3yAjIJjDgfXMxsvw=w2400'  class=\"center\" width=\"50%\" height=\"50%\"/></p></a>\n",
    "___\n",
    "<center><em>Content Copyright by HongLab, Inc.</em></center>"
   ]
  },
  {
   "cell_type": "markdown",
   "metadata": {},
   "source": [
    "##### [문제] 오류 수정 연습\n",
    "\n",
    "정상적으로 실행되도록 수정해보세요.\n",
    "\n",
    "| 입력 | 출력 |\n",
    "|---|---|\n",
    "|없음|Hi, I'm Thanos!|"
   ]
  },
  {
   "cell_type": "code",
   "execution_count": 4,
   "metadata": {},
   "outputs": [
    {
     "name": "stdout",
     "output_type": "stream",
     "text": [
      "Hi, I'm Thanos!\n"
     ]
    }
   ],
   "source": [
    "print(\"Hi, I\\'m Thanos!\")"
   ]
  },
  {
   "cell_type": "code",
   "execution_count": 1,
   "metadata": {},
   "outputs": [
    {
     "name": "stdout",
     "output_type": "stream",
     "text": [
      "Hi, I'm Thanos!\n"
     ]
    }
   ],
   "source": [
    "print(\"Hi, I\\'m Thanos!\")"
   ]
  },
  {
   "cell_type": "markdown",
   "metadata": {},
   "source": [
    "정상적으로 실행되도록 수정해보세요.\n",
    "\n",
    "| 입력 | 출력 |\n",
    "|---|---|\n",
    "|없음|a는 10입니다.|"
   ]
  },
  {
   "cell_type": "code",
   "execution_count": 7,
   "metadata": {},
   "outputs": [
    {
     "name": "stdout",
     "output_type": "stream",
     "text": [
      "a는 10입니다.\n"
     ]
    }
   ],
   "source": [
    "a = 10\n",
    "\n",
    "if a == 10:\n",
    "    print(\"a는 10입니다.\")"
   ]
  },
  {
   "cell_type": "markdown",
   "metadata": {},
   "source": [
    "##### [문제] 스왑(swap)\n",
    "\n",
    "x와 y를 서로 바꿔서(swap) x가 123, y가 \"Hello\"가 되도록 만들어보세요.\n",
    "\n",
    "| 입력 | 출력 |\n",
    "|---|---|\n",
    "|없음|(123, \"Hello\")|"
   ]
  },
  {
   "cell_type": "code",
   "execution_count": 10,
   "metadata": {},
   "outputs": [
    {
     "name": "stdout",
     "output_type": "stream",
     "text": [
      "123\n",
      "Hello\n"
     ]
    }
   ],
   "source": [
    "x, y = \"Hello\", 123\n",
    "\n",
    "# 여기에 구현해보세요\n",
    "temp = y\n",
    "y = x\n",
    "x = temp\n",
    "\n",
    "x, y # 결과 확인\n",
    "print(x)\n",
    "print(y)"
   ]
  },
  {
   "cell_type": "markdown",
   "metadata": {},
   "source": [
    "##### [문제] 100보다 큰 숫자만\n",
    "\n",
    "아래 리스트에서 100 보다 큰 숫자만 골라서 출력해보세요\n",
    "\n",
    "| 입력 | 출력 |\n",
    "|---|---|\n",
    "|없음|150 230|"
   ]
  },
  {
   "cell_type": "code",
   "execution_count": 14,
   "metadata": {},
   "outputs": [
    {
     "name": "stdout",
     "output_type": "stream",
     "text": [
      "150\n",
      "230\n"
     ]
    }
   ],
   "source": [
    "my_list = [3, 6, 150, 230, 0, -1.3]\n",
    "\n",
    "\n",
    "for i in my_list:\n",
    "    if i > 100:\n",
    "        print(i)\n",
    "\n",
    "\n",
    "\n"
   ]
  },
  {
   "cell_type": "markdown",
   "metadata": {},
   "source": [
    "##### [문제] 제곱의 합\n",
    "\n",
    "for문을 이용해서 1부터 100까지 숫자들의 제곱의 합을 구해보세요.\n",
    "$1^2 + 2^2 + \\cdots + 100^2$를 구하면 됩니다.\n",
    "| 입력 | 출력 |\n",
    "|---|---|\n",
    "|없음|338350|"
   ]
  },
  {
   "cell_type": "code",
   "execution_count": 16,
   "metadata": {},
   "outputs": [
    {
     "name": "stdout",
     "output_type": "stream",
     "text": [
      "338350\n"
     ]
    }
   ],
   "source": [
    "sum = 0;\n",
    "for i in range(1,101):\n",
    "    sum += i*i;\n",
    "\n",
    "print(sum)\n",
    "\n"
   ]
  },
  {
   "cell_type": "markdown",
   "metadata": {},
   "source": [
    "##### [문제] 소수 판별\n",
    "\n",
    "1 이상의 정수를 입력받아서 소수(prime number)인지 확인하는 프로그램을 만들어봅시다. 아래의 입출력 표를 참고해서 소수가 아닐 경우에는 나눌 수 있는 가장 작은 수도 같이 출력하세요.\n",
    "\n",
    "| 입력 | 출력 |\n",
    "|---|---|\n",
    "|1|1은 소수가 아닙니다.|\n",
    "|7|7은 소수입니다.|\n",
    "|10|10은 2로 나눌 수 있습니다.|\n",
    "|91|91은 7로 나눌 수 있습니다.|\n",
    "|103|103은 소수입니다.|\n",
    "\n",
    "**힌트**\n",
    "1. 1과 자기 자신으로만 나누어 떨어지는 숫자를 소수라고 합니다. 예를 들어서 6은 2 곱하기 3이기 때문에 소수가 아닙니다. 5나 7은 소수입니다. \n",
    "1. 입력받은 숫자가 1일 경우에는 별도의 ```if```문으로 처리해서 for문을 거치지 않게 하세요.\n",
    "1. 가장 단순한 방법은 하나씩 나눠보고 나머지가 0인지를 검사하는 것이겠지요. 예를 들어서 입력이 35라면 2로 나눠보고 3으로 나눠보고 ... 5로 나눴을 때 나머지가 0이니까 검사를 중단하면 됩니다.\n",
    "1. ```else```는 ```if```와도 사용될 수 있고 ```for```와도 사용될 수 있는데 **들여쓰기가 같은** ```for```나 ```if```와 함께 사용되는 것입니다. 줄 수가 가까운 쪽이 아닙니다."
   ]
  },
  {
   "cell_type": "code",
   "execution_count": 7,
   "metadata": {},
   "outputs": [
    {
     "name": "stdout",
     "output_type": "stream",
     "text": [
      "103은 소수입니다.\n"
     ]
    }
   ],
   "source": [
    "import sys\n",
    "num = int(input(\"자연수를 입력해주세요:\"))\n",
    "#자기 자신과 1로 나누어지는 것을 제외하고 나눠지면 소수, 에라토스테네스의 체\n",
    "#1은 소수가 아니므로 제외해야함.\n",
    "if num == 1 :\n",
    "    print(str(num) + \"은 소수가 아닙니다.\")\n",
    "    sys.exit()\n",
    "\n",
    "\n",
    "flag = True\n",
    "\n",
    "\n",
    "\n",
    "#2부터 num-1까지 나눠지는 경우를 계산\n",
    "for i in range(2, num):\n",
    "    if num % i == 0:\n",
    "        divisor = i\n",
    "        flag = False\n",
    "        break\n",
    "\n",
    "if flag == True :\n",
    "    print(str(num)+\"은 소수입니다.\")\n",
    "elif flag == False :\n",
    "    print(str(num)+\"은 \"+str(divisor)+\"로 나눌 수 있습니다.\")\n",
    "\n",
    "\n"
   ]
  },
  {
   "cell_type": "markdown",
   "metadata": {},
   "source": [
    "##### [문제] 간단 계산기\n",
    "\n",
    "숫자, 연산자, 숫자를 순서대로 별도의 input() 함수로 입력받고 계산 결과를 출력하는 프로그램을 만들어 보세요.\n",
    "\n",
    "| 입력 | 출력 |\n",
    "|---|---|\n",
    "|1 + 10|1 + 10 = 11|\n",
    "|100 - 5|100 - 5 = 95|\n",
    "|3 * 5|3 * 5 = 15|\n",
    "|12 / 4|12 / 4 = 3.0|"
   ]
  },
  {
   "cell_type": "code",
   "execution_count": 14,
   "metadata": {},
   "outputs": [
    {
     "name": "stdout",
     "output_type": "stream",
     "text": [
      "11\n"
     ]
    }
   ],
   "source": [
    "# input() 함수를 3번 사용합니다.\n",
    "first_number = int(input(\"첫 번째 숫자를 입력해주세요:\"))\n",
    "operator = input(\"연산자를 입력해주세요:\")\n",
    "second_number = int(input(\"두 번째 숫자를 입력해주세요:\"))\n",
    "\n",
    "if operator == '+':\n",
    "    answer = first_number + second_number\n",
    "elif operator == '-':\n",
    "    answer = first_number - second_number    \n",
    "elif operator == '*':\n",
    "    answer = first_number * second_number\n",
    "elif operator == '/':\n",
    "    answer = first_number / second_number\n",
    "\n",
    "print(answer)"
   ]
  },
  {
   "cell_type": "markdown",
   "metadata": {},
   "source": [
    "##### [문제] ```eval()``` 함수와 표현식\n",
    "\n",
    "문자열에 계산 가능한 식을 넣으면 그 값을 계산해주는 편리한 함수입니다. 예를 들어서 ```eval(\"1 + 10\")```을 실행시키면 11이 됩니다. ```eval()``` 함수를 이용해서 계산 식을 입력하면 그 결과가 출력되는 프로그램을 만들어봅시다.\n",
    "\n",
    "| 입력 | 출력 |\n",
    "|---|---|\n",
    "|1+10|11|\n",
    "|100-5| 95|\n",
    "|3*5|15|\n",
    "|12/4|3.0|\n",
    "|(1+2)*3|9|"
   ]
  },
  {
   "cell_type": "code",
   "execution_count": 20,
   "metadata": {},
   "outputs": [
    {
     "data": {
      "text/plain": [
       "9"
      ]
     },
     "execution_count": 20,
     "metadata": {},
     "output_type": "execute_result"
    }
   ],
   "source": [
    "user_input = input(\"계산식을 입력해주세요:\")\n",
    "eval(user_input)\n"
   ]
  },
  {
   "cell_type": "markdown",
   "metadata": {},
   "source": [
    "##### [문제] eval() 함수와 시퀀스\n",
    "\n",
    "여러 개의 숫자를 컴마로 구분해서 입력받고 그 숫자들의 합을 구해봅시다.\n",
    "\n",
    "| 입력 | 출력 |\n",
    "|---|---|\n",
    "|1, 2, 3|6|\n",
    "|3, 2, 1, 8, 6|20|\n",
    "|7|오류|\n",
    "|7,|7|\n",
    "\n",
    "참고로 ```1 2 3```과 같이 빈칸만으로 구분해서 입력하면 오류가 발생합니다."
   ]
  },
  {
   "cell_type": "code",
   "execution_count": 29,
   "metadata": {},
   "outputs": [
    {
     "ename": "ValueError",
     "evalue": "invalid literal for int() with base 10: ''",
     "output_type": "error",
     "traceback": [
      "\u001b[1;31m---------------------------------------------------------------------------\u001b[0m",
      "\u001b[1;31mValueError\u001b[0m                                Traceback (most recent call last)",
      "Cell \u001b[1;32mIn[29], line 5\u001b[0m\n\u001b[0;32m      3\u001b[0m \u001b[39msum\u001b[39m \u001b[39m=\u001b[39m \u001b[39m0\u001b[39m\n\u001b[0;32m      4\u001b[0m \u001b[39mfor\u001b[39;00m i \u001b[39min\u001b[39;00m user_input:\n\u001b[1;32m----> 5\u001b[0m     \u001b[39msum\u001b[39m\u001b[39m+\u001b[39m\u001b[39m=\u001b[39m \u001b[39mint\u001b[39;49m(i)\n\u001b[0;32m      6\u001b[0m \u001b[39mprint\u001b[39m(\u001b[39msum\u001b[39m)\n",
      "\u001b[1;31mValueError\u001b[0m: invalid literal for int() with base 10: ''"
     ]
    }
   ],
   "source": [
    "user_input = input().split(',')\n",
    "\n",
    "sum = 0\n",
    "for i in user_input:\n",
    "    sum+= int(i)\n",
    "print(sum)"
   ]
  },
  {
   "cell_type": "markdown",
   "metadata": {},
   "source": [
    "##### [문제] BMI 계산기\n",
    "\n",
    "키와 몸무게를 입력받아서 BMI 수치와 비만 정도를 알려주는 프로그램을 만들어봅시다.\n",
    "BMI는 아래 식을 이용해서 계산할 수 있습니다. 주의 사항은 키를 입력받을 때는 cm 단위로 입력받은 후에 다시 미터 단위로 변환해서 계산에 사용해야 합니다.\n",
    "\n",
    "$BMI = 몸무게 / (키 * 키)$\n",
    "\n",
    "문제를 단순화 하기 위하여 BMI 25 이상은 비만, 18.5 미만은 저체중, 그 외에는 정상으로 판별해봅시다. \n",
    "\n",
    "|입력|출력|\n",
    "|---|---|\n",
    "|키178몸무게80|BMI 수치는 25.25 입니다. 비만|\n",
    "|키164몸무게48|BMI 수치는 17.85 입니다. 저체중|\n",
    "|키170몸무게60|BMI 수치는 20.76 입니다. 정상|\n",
    "\n",
    "BMI는 소수점 아래 2자리만 출력하세요."
   ]
  },
  {
   "cell_type": "code",
   "execution_count": 45,
   "metadata": {},
   "outputs": [
    {
     "name": "stdout",
     "output_type": "stream",
     "text": [
      "BMI 수치는 20.76 입니다. 정상\n"
     ]
    }
   ],
   "source": [
    "height = float(input(\"키 입력: \")) / 100 # 178 -> 1.78로 표시\n",
    "weight = float(input(\"몸무게 입력: \"))\n",
    "\n",
    "BMI = round((weight) / (height * height), 2) \n",
    "\n",
    "if BMI >= 25:\n",
    "    print(\"BMI 수치는 \" + str(BMI) +\" 입니다. 비만\")\n",
    "elif BMI < 25 and BMI >= 18.5 :\n",
    "    print(\"BMI 수치는 \" + str(BMI) +\" 입니다. 정상\")\n",
    "elif BMI < 18.5 :\n",
    "    print(\"BMI 수치는 \" + str(BMI) +\" 입니다. 저체중\")"
   ]
  },
  {
   "cell_type": "markdown",
   "metadata": {},
   "source": [
    "##### [문제] FizzBuzz\n",
    "\n",
    "1에서 20까지의 정수에 대해서 3의 배수이면 Fizz를, 5의 배수이면 Buzz를, 3의 배수이면서 5의 배수라면 FizzBuzz를 출력합니다.\n",
    "\n",
    "**실행 예시**\n",
    "\n",
    "```\n",
    "1 2 Fizz 4 Buzz Fizz 7 8 Fizz Buzz 11 Fizz 13 14 FizzBuzz 16 17 Fizz 19 Buzz\n",
    "```\n"
   ]
  },
  {
   "cell_type": "code",
   "execution_count": 51,
   "metadata": {},
   "outputs": [
    {
     "name": "stdout",
     "output_type": "stream",
     "text": [
      "1\n",
      "2\n",
      "Fizz\n",
      "4\n",
      "Fizz\n",
      "7\n",
      "8\n",
      "Fizz\n",
      "11\n",
      "Fizz\n",
      "13\n",
      "14\n",
      "FizzBuzz\n",
      "16\n",
      "17\n",
      "Fizz\n",
      "19\n"
     ]
    }
   ],
   "source": [
    "for i in range(1, 21):\n",
    "    if i % 3 == 0:\n",
    "        if i % 5 == 0:\n",
    "            print(\"Fizz\", end ='')\n",
    "        else:\n",
    "            print(\"Fizz\")\n",
    "    #15인 경우에 3과 5의 배수이므로 elif 사용을 안함.\n",
    "    if i % 5 == 0:\n",
    "        if i % 3 == 0:\n",
    "            print(\"Buzz\")\n",
    "\n",
    "    \n",
    "    if i % 3 != 0 and i % 5 != 0 :\n",
    "        print(i)\n"
   ]
  },
  {
   "cell_type": "markdown",
   "metadata": {},
   "source": [
    "##### [문제] 369 게임\n",
    "\n",
    "1에서 20까지의 정수에 대해서 끝자리 숫자가 3이나 6이나 9라면 \"짝\"을 출력하고 그렇지 않다면 그 숫자를 출력합니다.\n",
    "\n",
    "```\n",
    "1 2 짝 4 5 짝 7 8 짝 10 11 12 짝 14 15 짝 17 18 짝 20\n",
    "```\n"
   ]
  },
  {
   "cell_type": "code",
   "execution_count": 53,
   "metadata": {},
   "outputs": [
    {
     "name": "stdout",
     "output_type": "stream",
     "text": [
      "1\n",
      "2\n",
      "짝\n",
      "4\n",
      "5\n",
      "짝\n",
      "7\n",
      "8\n",
      "짝\n",
      "10\n",
      "11\n",
      "12\n",
      "짝\n",
      "14\n",
      "15\n",
      "짝\n",
      "17\n",
      "18\n",
      "짝\n",
      "20\n"
     ]
    }
   ],
   "source": [
    "for i in range(1, 21):\n",
    "    #일의 자리를 구하기위해 10을 나눈 나머지값을 이용\n",
    "    if i % 10 == 3 or i % 10 == 6 or i % 10 == 9:\n",
    "        print(\"짝\")\n",
    "    else:\n",
    "        print(i)\n"
   ]
  },
  {
   "cell_type": "markdown",
   "metadata": {},
   "source": [
    "##### [문제] 자연수만 입력받기\n",
    "\n",
    "사용자가 input() 함수로 자연수를 입력할 때까지 반복해서 입력을 받도록 해봅시다. 자연수는 1, 2, 3, ... 같이 1이상의 양의 정수입니다.\n",
    "\n",
    "**실행 예시**  \n",
    "자연수를 입력해주세요: 0  \n",
    "자연수가 아닙니다.  \n",
    "자연수를 입력해주세요: hello  \n",
    "자연수가 아닙니다.  \n",
    "자연수를 입력해주세요: a123  \n",
    "자연수가 아닙니다.  \n",
    "자연수를 입력해주세요: -100  \n",
    "자연수가 아닙니다.  \n",
    "자연수를 입력해주세요: 1234  \n",
    "자연수입니다.\n",
    "\n",
    "**힌트**  \n",
    "1. ```isnumeric()``` 메써드 사용\n",
    "1. ```:=``` 연산자 사용 (파이썬 3.8 이상인지 확인)"
   ]
  },
  {
   "cell_type": "code",
   "execution_count": 2,
   "metadata": {},
   "outputs": [
    {
     "name": "stdout",
     "output_type": "stream",
     "text": [
      "자연수가 아닙니다.\n",
      "자연수가 아닙니다.\n",
      "자연수가 아닙니다.\n",
      "자연수가 아닙니다.\n",
      "자연수가 아닙니다.\n",
      "자연수가 아닙니다.\n"
     ]
    },
    {
     "ename": "KeyboardInterrupt",
     "evalue": "Interrupted by user",
     "output_type": "error",
     "traceback": [
      "\u001b[1;31m---------------------------------------------------------------------------\u001b[0m",
      "\u001b[1;31mKeyboardInterrupt\u001b[0m                         Traceback (most recent call last)",
      "Cell \u001b[1;32mIn[2], line 2\u001b[0m\n\u001b[0;32m      1\u001b[0m \u001b[39mwhile\u001b[39;00m \u001b[39m1\u001b[39m:\n\u001b[1;32m----> 2\u001b[0m     user_input \u001b[39m=\u001b[39m \u001b[39minput\u001b[39;49m(\u001b[39m\"\u001b[39;49m\u001b[39m자연수를 입력해주세요:\u001b[39;49m\u001b[39m\"\u001b[39;49m)\n\u001b[0;32m      3\u001b[0m     a \u001b[39m=\u001b[39m user_input\u001b[39m.\u001b[39misnumeric()\n\u001b[0;32m      4\u001b[0m     \u001b[39mif\u001b[39;00m a \u001b[39m==\u001b[39m \u001b[39mTrue\u001b[39;00m :\n",
      "File \u001b[1;32m~\\AppData\\Local\\Packages\\PythonSoftwareFoundation.Python.3.9_qbz5n2kfra8p0\\LocalCache\\local-packages\\Python39\\site-packages\\ipykernel\\kernelbase.py:1182\u001b[0m, in \u001b[0;36mKernel.raw_input\u001b[1;34m(self, prompt)\u001b[0m\n\u001b[0;32m   1180\u001b[0m     msg \u001b[39m=\u001b[39m \u001b[39m\"\u001b[39m\u001b[39mraw_input was called, but this frontend does not support input requests.\u001b[39m\u001b[39m\"\u001b[39m\n\u001b[0;32m   1181\u001b[0m     \u001b[39mraise\u001b[39;00m StdinNotImplementedError(msg)\n\u001b[1;32m-> 1182\u001b[0m \u001b[39mreturn\u001b[39;00m \u001b[39mself\u001b[39;49m\u001b[39m.\u001b[39;49m_input_request(\n\u001b[0;32m   1183\u001b[0m     \u001b[39mstr\u001b[39;49m(prompt),\n\u001b[0;32m   1184\u001b[0m     \u001b[39mself\u001b[39;49m\u001b[39m.\u001b[39;49m_parent_ident[\u001b[39m\"\u001b[39;49m\u001b[39mshell\u001b[39;49m\u001b[39m\"\u001b[39;49m],\n\u001b[0;32m   1185\u001b[0m     \u001b[39mself\u001b[39;49m\u001b[39m.\u001b[39;49mget_parent(\u001b[39m\"\u001b[39;49m\u001b[39mshell\u001b[39;49m\u001b[39m\"\u001b[39;49m),\n\u001b[0;32m   1186\u001b[0m     password\u001b[39m=\u001b[39;49m\u001b[39mFalse\u001b[39;49;00m,\n\u001b[0;32m   1187\u001b[0m )\n",
      "File \u001b[1;32m~\\AppData\\Local\\Packages\\PythonSoftwareFoundation.Python.3.9_qbz5n2kfra8p0\\LocalCache\\local-packages\\Python39\\site-packages\\ipykernel\\kernelbase.py:1225\u001b[0m, in \u001b[0;36mKernel._input_request\u001b[1;34m(self, prompt, ident, parent, password)\u001b[0m\n\u001b[0;32m   1222\u001b[0m \u001b[39mexcept\u001b[39;00m \u001b[39mKeyboardInterrupt\u001b[39;00m:\n\u001b[0;32m   1223\u001b[0m     \u001b[39m# re-raise KeyboardInterrupt, to truncate traceback\u001b[39;00m\n\u001b[0;32m   1224\u001b[0m     msg \u001b[39m=\u001b[39m \u001b[39m\"\u001b[39m\u001b[39mInterrupted by user\u001b[39m\u001b[39m\"\u001b[39m\n\u001b[1;32m-> 1225\u001b[0m     \u001b[39mraise\u001b[39;00m \u001b[39mKeyboardInterrupt\u001b[39;00m(msg) \u001b[39mfrom\u001b[39;00m \u001b[39mNone\u001b[39m\n\u001b[0;32m   1226\u001b[0m \u001b[39mexcept\u001b[39;00m \u001b[39mException\u001b[39;00m:\n\u001b[0;32m   1227\u001b[0m     \u001b[39mself\u001b[39m\u001b[39m.\u001b[39mlog\u001b[39m.\u001b[39mwarning(\u001b[39m\"\u001b[39m\u001b[39mInvalid Message:\u001b[39m\u001b[39m\"\u001b[39m, exc_info\u001b[39m=\u001b[39m\u001b[39mTrue\u001b[39;00m)\n",
      "\u001b[1;31mKeyboardInterrupt\u001b[0m: Interrupted by user"
     ]
    }
   ],
   "source": [
    "while 1:\n",
    "    user_input = input(\"자연수를 입력해주세요:\")\n",
    "    a = user_input.isnumeric()\n",
    "    if a == True :\n",
    "        b = int(user_input)\n",
    "        if b > 0 :\n",
    "            print(\"자연수 입니다.\")\n",
    "            break\n",
    "        elif b<= 0:\n",
    "            print(\"자연수가 아닙니다.\")\n",
    "    elif a == False :\n",
    "        print(\"자연수가 아닙니다.\")"
   ]
  }
 ],
 "metadata": {
  "kernelspec": {
   "display_name": "Python 3",
   "language": "python",
   "name": "python3"
  },
  "language_info": {
   "codemirror_mode": {
    "name": "ipython",
    "version": 3
   },
   "file_extension": ".py",
   "mimetype": "text/x-python",
   "name": "python",
   "nbconvert_exporter": "python",
   "pygments_lexer": "ipython3",
   "version": "3.9.13"
  },
  "orig_nbformat": 4,
  "vscode": {
   "interpreter": {
    "hash": "65fd3a77e6bdfb600ae361c846693c9d5d9a95209bfa0e348eb74668e8e9c2e8"
   }
  }
 },
 "nbformat": 4,
 "nbformat_minor": 2
}
